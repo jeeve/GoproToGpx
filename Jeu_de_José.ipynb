{
  "nbformat": 4,
  "nbformat_minor": 0,
  "metadata": {
    "colab": {
      "name": "Jeu de José.ipynb",
      "provenance": [],
      "authorship_tag": "ABX9TyPy7D4kFuS0PFtdf5+8H+Tz",
      "include_colab_link": true
    },
    "kernelspec": {
      "name": "python3",
      "display_name": "Python 3"
    }
  },
  "cells": [
    {
      "cell_type": "markdown",
      "metadata": {
        "id": "view-in-github",
        "colab_type": "text"
      },
      "source": [
        "<a href=\"https://colab.research.google.com/github/jeeve/GoproToGpx/blob/master/Jeu_de_Jos%C3%A9.ipynb\" target=\"_parent\"><img src=\"https://colab.research.google.com/assets/colab-badge.svg\" alt=\"Open In Colab\"/></a>"
      ]
    },
    {
      "cell_type": "markdown",
      "metadata": {
        "id": "pZFhOyhqQ_4f"
      },
      "source": [
        "# Le jeu de José\n",
        "Une rivière, une barge ne pouvant contenir que 2 individus maximum.\n",
        "\n",
        "Sur la rive droite, 3 humains et 3 orques.\n",
        "\n",
        "Le but, que les 3 humains traversent sur la rive gauche sachant qu'ils ne doivent jamais être en infériorité numérique par rapport aux orques."
      ]
    },
    {
      "cell_type": "code",
      "metadata": {
        "id": "L0nqziuRsbo9"
      },
      "source": [
        "import random\n",
        "from copy import copy"
      ],
      "execution_count": null,
      "outputs": []
    },
    {
      "cell_type": "markdown",
      "metadata": {
        "id": "yW8hlnCPRJ6Y"
      },
      "source": [
        "# Objet"
      ]
    },
    {
      "cell_type": "code",
      "metadata": {
        "id": "mpfAKXkUzH4X"
      },
      "source": [
        "class JeuDeJose:\n",
        "\n",
        "  def __init__(self):\n",
        "    self.rive_gauche = []\n",
        "    self.rive_droite = ['humain', 'humain', 'humain', 'orque', 'orque', 'orque']\n",
        "    self.barge = 'droite'\n",
        "    self.nombre_tentatives_max = 100\n",
        "    self.nombre_tentatives = 1\n",
        "\n",
        "  def __str__(self):\n",
        "    chaine = str(len(self.coups) - 1) + \" coups\\n\"\n",
        "    for coup in self.coups:\n",
        "      chaine += str(coup) + \"\\n\"\n",
        "    return chaine \n",
        "\n",
        "  def nombre(self, categorie, rive):\n",
        "    return rive.count(categorie)  \n",
        "\n",
        "  def equipage_disponible(self, equipage, rive):\n",
        "    copie_rive = copy(rive)\n",
        "    for membre in equipage:\n",
        "      try:\n",
        "        copie_rive.remove(membre)\n",
        "      except: \n",
        "        return False\n",
        "    return True      \n",
        "\n",
        "  def test_viabilite(self, rive):\n",
        "    if self.nombre('humain', rive) > 0:\n",
        "      return self.nombre('orque', rive) <= self.nombre('humain', rive)\n",
        "    else:\n",
        "      return True   \n",
        "\n",
        "  def transfert_vers(self, rive1, rive2, equipage):\n",
        "    for membre in equipage:\n",
        "      try:\n",
        "        rive1.remove(membre)\n",
        "        rive2.append(membre)\n",
        "      except: \n",
        "        pass   \n",
        "\n",
        "  def traverse_vers(self, texte, rive1, rive2, equipage):\n",
        "    copie_rive1 = copy(rive1)\n",
        "    copie_rive2 = copy(rive2)\n",
        "\n",
        "    self.transfert_vers(copie_rive1, copie_rive2, equipage)\n",
        "\n",
        "    if self.test_viabilite(copie_rive1) and self.test_viabilite(copie_rive2):\n",
        "    \n",
        "      self.transfert_vers(rive1, rive2, equipage)\n",
        "    \n",
        "      if self.barge == 'gauche':\n",
        "        self.barge = 'droite'\n",
        "      else:\n",
        "        self.barge = 'gauche'\n",
        "\n",
        "      self.coups.append((copy(self.rive_gauche), copy(self.rive_droite)))  \n",
        "      self.nombre_tentatives += 1   \n",
        "\n",
        "  def essaye(self):\n",
        "    if random.choice([1, 2]) == 1:\n",
        "      equipage = [random.choice(['humain', 'orque'])]\n",
        "    else:\n",
        "      equipage = [random.choice(['humain', 'orque']), random.choice(['humain', 'orque'])]\n",
        "\n",
        "    if self.barge == 'droite':\n",
        "      if self.equipage_disponible(equipage, self.rive_droite):\n",
        "        self.traverse_vers(\"rive gauche\", self.rive_droite, self.rive_gauche, equipage)\n",
        "    else:\n",
        "      if self.equipage_disponible(equipage, self.rive_gauche):\n",
        "        self.traverse_vers(\"rive droite\", self.rive_gauche, self.rive_droite, equipage) \n",
        "\n",
        "  def a_gagne(self):\n",
        "    return self.nombre('humain', self.rive_gauche) == 3\n",
        "\n",
        "  def run(self):\n",
        "    self.coups = [([], ['humain', 'humain', 'humain', 'orque', 'orque', 'orque'])]\n",
        "    while not(self.a_gagne()) and self.nombre_tentatives < self.nombre_tentatives_max:\n",
        "      self.essaye()        "
      ],
      "execution_count": null,
      "outputs": []
    },
    {
      "cell_type": "markdown",
      "metadata": {
        "id": "M8PMyb7ARi0B"
      },
      "source": [
        "# Calcul"
      ]
    },
    {
      "cell_type": "code",
      "metadata": {
        "id": "OO-CuGqjzTQE",
        "outputId": "eb63ef9d-2d09-407e-8bd7-d25ea313b5d8",
        "colab": {
          "base_uri": "https://localhost:8080/",
          "height": 191
        }
      },
      "source": [
        "random.seed(1)\n",
        "nombre_tentatives_max = 1000\n",
        "meilleur_jeu = JeuDeJose()\n",
        "meilleur_jeu.run()\n",
        "nombre_tentatives = 1\n",
        "while nombre_tentatives < nombre_tentatives_max:\n",
        "  j = JeuDeJose()\n",
        "  j.run()\n",
        "  if len(j.coups) < len(meilleur_jeu.coups):\n",
        "    meilleur_jeu = j\n",
        "  nombre_tentatives += 1\n",
        "print(meilleur_jeu)"
      ],
      "execution_count": null,
      "outputs": [
        {
          "output_type": "stream",
          "text": [
            "7 coups\n",
            "([], ['humain', 'humain', 'humain', 'orque', 'orque', 'orque'])\n",
            "(['orque', 'humain'], ['humain', 'humain', 'orque', 'orque'])\n",
            "(['orque'], ['humain', 'humain', 'orque', 'orque', 'humain'])\n",
            "(['orque', 'orque', 'orque'], ['humain', 'humain', 'humain'])\n",
            "(['orque', 'orque'], ['humain', 'humain', 'humain', 'orque'])\n",
            "(['orque', 'orque', 'humain', 'humain'], ['humain', 'orque'])\n",
            "(['orque', 'humain'], ['humain', 'orque', 'humain', 'orque'])\n",
            "(['orque', 'humain', 'humain', 'humain'], ['orque', 'orque'])\n",
            "\n"
          ],
          "name": "stdout"
        }
      ]
    }
  ]
}